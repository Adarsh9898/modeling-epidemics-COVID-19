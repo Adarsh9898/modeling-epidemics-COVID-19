{
 "cells": [
  {
   "cell_type": "code",
   "execution_count": 1,
   "metadata": {},
   "outputs": [],
   "source": [
    "import nbformat\n",
    "from nbconvert import PythonExporter\n",
    "\n",
    "from os import listdir\n",
    "from os.path import isfile, join, splitext\n",
    "\n",
    "def convertNotebook(notebookPath, modulePath):\n",
    "\n",
    "  with open(notebookPath) as fh:\n",
    "    nb = nbformat.reads(fh.read(), nbformat.NO_CONVERT)\n",
    "\n",
    "  exporter = PythonExporter()\n",
    "  source, meta = exporter.from_notebook_node(nb)\n",
    "\n",
    "  with open(modulePath, 'w+') as fh:\n",
    "    fh.writelines(source)"
   ]
  },
  {
   "cell_type": "code",
   "execution_count": 2,
   "metadata": {},
   "outputs": [
    {
     "name": "stdout",
     "output_type": "stream",
     "text": [
      "('Basic-Reproduction-Number', '.ipynb')\n",
      "('COVID-19-India-Analysis', '.pdf')\n",
      "('Extract-Python-Src', '.ipynb')\n",
      "('Visualize-Analyze-Current-State', '.ipynb')\n",
      "('README', '.md')\n",
      "('SEIR-with-Social-Distancing', '.ipynb')\n",
      "('Infectious Disease Tracking System', '.docx')\n",
      "('Infectious Disease Tracking System', '.pdf')\n"
     ]
    }
   ],
   "source": [
    "baseDir = \".\"\n",
    "generatedSrcDir = join(baseDir, \"generated-src\")\n",
    "for f in listdir(baseDir):\n",
    "        if isfile(join(baseDir, f)):\n",
    "            splitFileName = splitext(f)\n",
    "            print(splitFileName)\n",
    "            if len(splitFileName) == 2 and splitFileName[1] == \".ipynb\":\n",
    "                convertNotebook(join(baseDir, f),join(generatedSrcDir, splitFileName[0]+\".py\"))"
   ]
  },
  {
   "cell_type": "code",
   "execution_count": null,
   "metadata": {},
   "outputs": [],
   "source": []
  }
 ],
 "metadata": {
  "kernelspec": {
   "display_name": "Python 3",
   "language": "python",
   "name": "python3"
  },
  "language_info": {
   "codemirror_mode": {
    "name": "ipython",
    "version": 3
   },
   "file_extension": ".py",
   "mimetype": "text/x-python",
   "name": "python",
   "nbconvert_exporter": "python",
   "pygments_lexer": "ipython3",
   "version": "3.7.4"
  }
 },
 "nbformat": 4,
 "nbformat_minor": 2
}
