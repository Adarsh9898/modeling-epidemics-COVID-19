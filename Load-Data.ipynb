{
 "cells": [
  {
   "cell_type": "markdown",
   "metadata": {},
   "source": [
    "# Load Data"
   ]
  },
  {
   "cell_type": "markdown",
   "metadata": {},
   "source": [
    "## For countries"
   ]
  },
  {
   "cell_type": "code",
   "execution_count": 1,
   "metadata": {},
   "outputs": [],
   "source": [
    "#Download data from \"https://github.com/CSSEGISandData/COVID-19.git\"\n",
    "\n",
    "confirmedCsv = \"COVID-19/csse_covid_19_data/csse_covid_19_time_series/time_series_covid19_confirmed_global.csv\"\n",
    "recoveredCsv = \"COVID-19/csse_covid_19_data/csse_covid_19_time_series/time_series_covid19_recovered_global.csv\"\n",
    "deathsCsv = \"COVID-19/csse_covid_19_data/csse_covid_19_time_series/time_series_covid19_deaths_global.csv\"\n",
    "\n",
    "try:\n",
    "    f = open(confirmedCsv)\n",
    "except IOError:\n",
    "    print('Download data from \"https://github.com/CSSEGISandData/COVID-19.git\"')\n",
    "    assert False\n",
    "finally:\n",
    "    f.close()"
   ]
  },
  {
   "cell_type": "code",
   "execution_count": 2,
   "metadata": {},
   "outputs": [],
   "source": [
    "import pandas as pd\n",
    "\n",
    "confirmedDf = pd.read_csv(confirmedCsv)\n",
    "recoveredDf = pd.read_csv(recoveredCsv)\n",
    "deathsDf = pd.read_csv(deathsCsv)"
   ]
  },
  {
   "cell_type": "code",
   "execution_count": 3,
   "metadata": {},
   "outputs": [],
   "source": [
    "populationOfCountries = \"population_by_country_2020.csv\"\n",
    "\n",
    "populationDf = pd.read_csv(populationOfCountries)"
   ]
  },
  {
   "cell_type": "markdown",
   "metadata": {},
   "source": [
    "## Load for Italy"
   ]
  },
  {
   "cell_type": "code",
   "execution_count": 4,
   "metadata": {},
   "outputs": [],
   "source": [
    "provinceCsv = \"covid19-in-italy/covid19_italy_province.csv\"\n",
    "regionCsv = \"covid19-in-italy/covid19_italy_region.csv\"\n",
    "\n",
    "try:\n",
    "    f = open(confirmedCsv)\n",
    "except IOError:\n",
    "    print('Download data from \"https://www.kaggle.com/sudalairajkumar/covid19-in-italy\"')\n",
    "    assert False\n",
    "finally:\n",
    "    f.close()\n",
    "\n",
    "provinceDf = pd.read_csv(provinceCsv)\n",
    "regionDf = pd.read_csv(regionCsv)   "
   ]
  },
  {
   "cell_type": "markdown",
   "metadata": {},
   "source": [
    "## Load for USA"
   ]
  },
  {
   "cell_type": "code",
   "execution_count": 5,
   "metadata": {},
   "outputs": [],
   "source": [
    "usDataCsv = \"us-counties.csv\"\n",
    "# Data can be downloaded from : https://www.kaggle.com/fireballbyedimyrnmom/us-counties-covid-19-dataset\n",
    "usDf = pd.read_csv(usDataCsv) \n",
    "usDf_group_by_date = usDf.groupby('date').sum()\n",
    "#print(usDf_group_by_date)\n",
    "total_infected_us_timeseries = usDf_group_by_date['cases']\n",
    "total_removed_us_timeseries = usDf_group_by_date['deaths']"
   ]
  },
  {
   "cell_type": "markdown",
   "metadata": {},
   "source": [
    "## Analyze statewise for India \n",
    "\n",
    "Download data from - https://www.kaggle.com/sudalairajkumar/covid19-in-india"
   ]
  },
  {
   "cell_type": "code",
   "execution_count": 6,
   "metadata": {},
   "outputs": [],
   "source": [
    "from datetime import datetime\n",
    "\n",
    "covidDataFile = \"covid19-in-india/covid_19_india.csv\"\n",
    "populationFile = \"covid19-in-india/population_india_census2011.csv\"\n",
    "hospitalBedsFile = \"covid19-in-india/HospitalBedsIndia.csv\"\n",
    "icmrTestingFile = \"covid19-in-india/ICMRTestingDetails.csv\"\n",
    "\n",
    "try:\n",
    "    f = open(covidDataFile)\n",
    "except IOError:\n",
    "    print('Download data from \"https://www.kaggle.com/sudalairajkumar/covid19-in-india\"')\n",
    "    assert False\n",
    "finally:\n",
    "    f.close()\n",
    "    \n",
    "    \n",
    "def parser(x):\n",
    "    return datetime.strptime(x, '%d/%m/%y')\n",
    "\n",
    "def icmrDateParser(x):\n",
    "    return datetime.strptime(x, '%d/%m/%y %H:%M')\n",
    "\n",
    "covidIndiaDataDf = pd.read_csv(covidDataFile, parse_dates=[1], index_col=1, squeeze=True, date_parser=parser)\n",
    "indiaPopulationDf = pd.read_csv(populationFile)\n",
    "hospitalBedsDf = pd.read_csv(hospitalBedsFile)\n",
    "icmrTestingDf = pd.read_csv(icmrTestingFile, parse_dates=[1], date_parser=icmrDateParser)"
   ]
  }
 ],
 "metadata": {
  "kernelspec": {
   "display_name": "Python 3",
   "language": "python",
   "name": "python3"
  },
  "language_info": {
   "codemirror_mode": {
    "name": "ipython",
    "version": 3
   },
   "file_extension": ".py",
   "mimetype": "text/x-python",
   "name": "python",
   "nbconvert_exporter": "python",
   "pygments_lexer": "ipython3",
   "version": "3.7.4"
  }
 },
 "nbformat": 4,
 "nbformat_minor": 2
}
